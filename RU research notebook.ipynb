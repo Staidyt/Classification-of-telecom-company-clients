{
 "cells": [
  {
   "cell_type": "markdown",
   "metadata": {},
   "source": [
    "# Рекомендация тарифов"
   ]
  },
  {
   "cell_type": "markdown",
   "metadata": {},
   "source": [
    "Оператор мобильной связи «Мегалайн» выяснил: многие клиенты пользуются архивными тарифами. Они хотят построить систему, способную проанализировать поведение клиентов и предложить пользователям новый тариф: «Смарт» или «Ультра».\n",
    "\n",
    "Предоставлены данные о поведении клиентов, которые уже перешли на эти тарифы. Нужно построить модель для задачи классификации, которая выберет подходящий тариф. Предобработка данных уже выполнена.\n",
    "\n",
    "Построить модель с максимально большим значением *accuracy*. Необходимо довести долю правильных ответов по крайней мере до 0.75. Проверить *accuracy* на тестовой выборке."
   ]
  },
  {
   "cell_type": "markdown",
   "metadata": {},
   "source": [
    "<b> Описание данных </b>\n",
    "\n",
    "Каждый объект в наборе данных — это информация о поведении одного пользователя за месяц. Известно:\n",
    "\n",
    "- сalls — количество звонков,\n",
    "- minutes — суммарная длительность звонков в минутах,\n",
    "- messages — количество sms-сообщений,\n",
    "- mb_used — израсходованный интернет-трафик в Мб,\n",
    "- is_ultra — каким тарифом пользовался в течение месяца («Ультра» — 1, «Смарт» — 0)."
   ]
  },
  {
   "cell_type": "markdown",
   "metadata": {},
   "source": [
    "## Описание хода работы"
   ]
  },
  {
   "cell_type": "markdown",
   "metadata": {},
   "source": [
    "1. Изучить файла с данными \n",
    "Путь к файлу: /datasets/users_behavior.csv. Скачать датасет\n",
    "2. Разделить исходные данные на обучающую, валидационную и тестовую выборки.\n",
    "3. Исследовать качество разных моделей, меняя гиперпараметры. Кратко написать выводы исследования.\n",
    "4. Проверить качество модели на тестовой выборке."
   ]
  },
  {
   "cell_type": "markdown",
   "metadata": {
    "tags": []
   },
   "source": [
    "## Настройки рабочей тетради"
   ]
  },
  {
   "cell_type": "code",
   "execution_count": 1,
   "metadata": {},
   "outputs": [],
   "source": [
    "# Импорт библиотек\n",
    "\n",
    "import pandas as pd\n",
    "\n",
    "from sklearn.model_selection import train_test_split\n",
    "from sklearn.tree import DecisionTreeClassifier\n",
    "from sklearn.metrics import accuracy_score\n",
    "from sklearn.ensemble import RandomForestClassifier\n",
    "from sklearn.linear_model import LogisticRegression\n",
    "\n",
    "import os"
   ]
  },
  {
   "cell_type": "code",
   "execution_count": 2,
   "metadata": {},
   "outputs": [],
   "source": [
    "# Настройки библиотек\n",
    "\n",
    " \n",
    "# Сброс ограничений на число столбцов\n",
    "pd.set_option('display.max_columns', None)"
   ]
  },
  {
   "cell_type": "code",
   "execution_count": 3,
   "metadata": {},
   "outputs": [],
   "source": [
    "# Путь к директории с данными\n",
    "\n",
    "path = 'datasets/'"
   ]
  },
  {
   "cell_type": "markdown",
   "metadata": {
    "tags": []
   },
   "source": [
    "## Изучение файла с данными"
   ]
  },
  {
   "cell_type": "code",
   "execution_count": 4,
   "metadata": {},
   "outputs": [
    {
     "name": "stdout",
     "output_type": "stream",
     "text": [
      "<class 'pandas.core.frame.DataFrame'>\n",
      "RangeIndex: 3214 entries, 0 to 3213\n",
      "Data columns (total 5 columns):\n",
      " #   Column    Non-Null Count  Dtype  \n",
      "---  ------    --------------  -----  \n",
      " 0   calls     3214 non-null   float64\n",
      " 1   minutes   3214 non-null   float64\n",
      " 2   messages  3214 non-null   float64\n",
      " 3   mb_used   3214 non-null   float64\n",
      " 4   is_ultra  3214 non-null   int64  \n",
      "dtypes: float64(4), int64(1)\n",
      "memory usage: 125.7 KB\n"
     ]
    }
   ],
   "source": [
    "df = pd.read_csv(os.path.join(path, 'users_behavior.csv'))\n",
    "\n",
    "df.head()\n",
    "df.info()"
   ]
  },
  {
   "cell_type": "code",
   "execution_count": 5,
   "metadata": {},
   "outputs": [
    {
     "name": "stdout",
     "output_type": "stream",
     "text": [
      "Количество дубликатов: 0\n",
      "Количество пропущенных значений:\n",
      "calls       0\n",
      "minutes     0\n",
      "messages    0\n",
      "mb_used     0\n",
      "is_ultra    0\n",
      "dtype: int64\n"
     ]
    }
   ],
   "source": [
    "#Проверка на дубликаты и пропуски\n",
    "\n",
    "print('Количество дубликатов:', df.duplicated().sum())\n",
    "print('Количество пропущенных значений:')\n",
    "print(df.isna().sum())"
   ]
  },
  {
   "cell_type": "markdown",
   "metadata": {},
   "source": [
    "<b>Вывод</b>\n",
    "\n",
    "Исходные данные представлены в удобном для дальнейшей работы варианте. Дубликатов и пропусков нет."
   ]
  },
  {
   "cell_type": "markdown",
   "metadata": {
    "tags": []
   },
   "source": [
    "## Разделение данных на выборки"
   ]
  },
  {
   "cell_type": "markdown",
   "metadata": {},
   "source": [
    "Исходные данные представлены одним датасетом, его будем разбивать на обучающую, валидационную и тестовую выборки в соотношении 60/20/20 соответственно."
   ]
  },
  {
   "cell_type": "code",
   "execution_count": 6,
   "metadata": {},
   "outputs": [],
   "source": [
    "features = df.drop(['is_ultra'], axis=1)\n",
    "target = df['is_ultra']\n",
    "\n",
    "features_train, features_valid, target_train, target_valid = train_test_split(features, target, \n",
    "                                                                              test_size=0.4, random_state=12345)\n",
    "features_test, features_valid, target_test, target_valid = train_test_split(features_valid, target_valid, \n",
    "                                                                              test_size=0.5, random_state=12345)"
   ]
  },
  {
   "cell_type": "markdown",
   "metadata": {
    "tags": []
   },
   "source": [
    "## Исследование моделей"
   ]
  },
  {
   "cell_type": "markdown",
   "metadata": {},
   "source": [
    "Поставленная задача - задача классификации. Для решения такой задачи нам известны 3 вида моделей: дерево решений, случайный лес, логистическая регрессия. Проверим их все с разными гиперпараметрами для выявления лучшей модели."
   ]
  },
  {
   "cell_type": "code",
   "execution_count": 7,
   "metadata": {},
   "outputs": [
    {
     "name": "stdout",
     "output_type": "stream",
     "text": [
      "Accuracy лучшей модели дерева решений: 0.7884914463452566 с глубиной дерева равной 7\n"
     ]
    }
   ],
   "source": [
    "#Дерево решений\n",
    "\n",
    "best_model_tree = None\n",
    "best_result_tree = 0\n",
    "best_depth_tree = 0\n",
    "for depth in range(1, 11):\n",
    "    model_tree = DecisionTreeClassifier(random_state=12345, max_depth=depth)\n",
    "    model_tree.fit(features_train, target_train)\n",
    "    predictions = model_tree.predict(features_valid)\n",
    "    result = accuracy_score(target_valid, predictions)\n",
    "    if result > best_result_tree:\n",
    "        best_model_tree = model_tree\n",
    "        best_result_tree = result\n",
    "        best_depth = depth\n",
    "        \n",
    "print('Accuracy лучшей модели дерева решений:', result, 'с глубиной дерева равной', best_depth)"
   ]
  },
  {
   "cell_type": "code",
   "execution_count": 8,
   "metadata": {},
   "outputs": [
    {
     "name": "stdout",
     "output_type": "stream",
     "text": [
      "Accuracy наилучшей модели случайного леса на валидационной выборке: 0.8133748055987559 Количество деревьев: 10 Глубина дерева: 9\n"
     ]
    }
   ],
   "source": [
    "#Случайный лес\n",
    "\n",
    "best_model_forest = None\n",
    "best_result_forest = 0\n",
    "best_depth_forest = 0\n",
    "best_est_forest = 0\n",
    "for est in range(10, 101, 10):\n",
    "    for depth in range(1, 11):\n",
    "        model_forest = RandomForestClassifier(random_state=12345, n_estimators=est, max_depth=depth)\n",
    "        model_forest.fit(features_train, target_train)\n",
    "        result = model_forest.score(features_valid, target_valid)\n",
    "        if result > best_result_forest:\n",
    "            best_best_model_forestmodel = model_forest\n",
    "            best_result_forest = result\n",
    "            best_depth_forest = depth\n",
    "            best_est_forest = est\n",
    "            \n",
    "print('Accuracy наилучшей модели случайного леса на валидационной выборке:', best_result_forest, \n",
    "      'Количество деревьев:', best_est_forest, 'Глубина дерева:', best_depth_forest)"
   ]
  },
  {
   "cell_type": "code",
   "execution_count": 9,
   "metadata": {},
   "outputs": [
    {
     "name": "stdout",
     "output_type": "stream",
     "text": [
      "Accuracy модели логистической регрессии: 0.7402799377916018\n"
     ]
    }
   ],
   "source": [
    "#Логистичская регрессия\n",
    "\n",
    "model_log = LogisticRegression(random_state=12345, solver='liblinear')\n",
    "model_log.fit(features_train, target_train) # обучите модель на тренировочной выборке\n",
    "result = model_log.score(features_valid, target_valid) # получите метрику качества модели на валидационной выборке\n",
    "\n",
    "print(\"Accuracy модели логистической регрессии:\", result)"
   ]
  },
  {
   "cell_type": "markdown",
   "metadata": {},
   "source": [
    "<b>Вывод</b>\n",
    "\n",
    "Рассмотрено 3 вида моделей с разными значениями гиперпараметров. Модель логистической регрессии не подходит нам вообще, так как её accuracy меньше 0.75. \n",
    "\n",
    "Наилучшие модели дерева решений и случайного леса дают результат accuracy больше 0.75. По условии поставленной задачи необходимо \"Постройте модель с максимально большим значением accuracy.\" значит итоговой моделью станет модель случайного леса с количеством деревьев 10 и глубиной дерева 9"
   ]
  },
  {
   "cell_type": "markdown",
   "metadata": {
    "tags": []
   },
   "source": [
    "## Проверка модели на тестовой выборке"
   ]
  },
  {
   "cell_type": "code",
   "execution_count": 10,
   "metadata": {},
   "outputs": [
    {
     "name": "stdout",
     "output_type": "stream",
     "text": [
      "Accuracy итоговой модели: 0.7853810264385692\n"
     ]
    }
   ],
   "source": [
    "model = RandomForestClassifier(random_state=12345, n_estimators=best_est_forest, max_depth=best_depth_forest)\n",
    "model.fit(features_train, target_train)\n",
    "\n",
    "predictions = model.predict(features_test)\n",
    "result = accuracy_score(target_test, predictions)\n",
    "print('Accuracy итоговой модели:', result)"
   ]
  },
  {
   "cell_type": "markdown",
   "metadata": {},
   "source": [
    "<b>Вывод</b> \n",
    "\n",
    "Выбранная модель выдаёт необходимое значение accuracy на тестовой выборке."
   ]
  }
 ],
 "metadata": {
  "ExecuteTimeLog": [
   {
    "duration": 550,
    "start_time": "2022-03-13T23:20:27.935Z"
   },
   {
    "duration": 38,
    "start_time": "2022-03-13T23:20:48.652Z"
   },
   {
    "duration": 450,
    "start_time": "2022-03-13T23:24:15.789Z"
   },
   {
    "duration": 8,
    "start_time": "2022-03-13T23:36:12.757Z"
   },
   {
    "duration": 28,
    "start_time": "2022-03-13T23:43:34.397Z"
   },
   {
    "duration": 219,
    "start_time": "2022-03-13T23:46:07.745Z"
   },
   {
    "duration": 33,
    "start_time": "2022-03-13T23:46:18.650Z"
   },
   {
    "duration": 33,
    "start_time": "2022-03-13T23:46:28.979Z"
   },
   {
    "duration": 35,
    "start_time": "2022-03-13T23:50:49.654Z"
   },
   {
    "duration": 51,
    "start_time": "2022-03-13T23:50:56.930Z"
   },
   {
    "duration": 60,
    "start_time": "2022-03-13T23:51:01.495Z"
   },
   {
    "duration": 19,
    "start_time": "2022-03-13T23:51:07.753Z"
   },
   {
    "duration": 34,
    "start_time": "2022-03-13T23:51:13.468Z"
   },
   {
    "duration": 54,
    "start_time": "2022-03-13T23:51:18.212Z"
   },
   {
    "duration": 35,
    "start_time": "2022-03-13T23:51:40.370Z"
   },
   {
    "duration": 53,
    "start_time": "2022-03-13T23:54:29.588Z"
   },
   {
    "duration": 48,
    "start_time": "2022-03-14T00:01:29.502Z"
   },
   {
    "duration": 156,
    "start_time": "2022-03-14T00:01:50.338Z"
   },
   {
    "duration": 10,
    "start_time": "2022-03-14T00:02:03.946Z"
   },
   {
    "duration": 11239,
    "start_time": "2022-03-14T00:02:07.197Z"
   },
   {
    "duration": 595,
    "start_time": "2022-03-14T12:13:33.968Z"
   },
   {
    "duration": 1439,
    "start_time": "2022-03-14T12:13:50.907Z"
   },
   {
    "duration": 47,
    "start_time": "2022-03-14T12:13:55.812Z"
   },
   {
    "duration": 12,
    "start_time": "2022-03-14T12:13:56.586Z"
   },
   {
    "duration": 77,
    "start_time": "2022-03-14T12:13:57.502Z"
   },
   {
    "duration": 20453,
    "start_time": "2022-03-14T12:13:58.402Z"
   },
   {
    "duration": 49,
    "start_time": "2022-03-14T12:14:18.858Z"
   },
   {
    "duration": 1488,
    "start_time": "2022-03-14T12:17:34.423Z"
   },
   {
    "duration": 44,
    "start_time": "2022-03-14T12:17:35.913Z"
   },
   {
    "duration": 20,
    "start_time": "2022-03-14T12:17:35.960Z"
   },
   {
    "duration": 92,
    "start_time": "2022-03-14T12:17:35.982Z"
   },
   {
    "duration": 19374,
    "start_time": "2022-03-14T12:17:36.077Z"
   },
   {
    "duration": 48,
    "start_time": "2022-03-14T12:17:55.454Z"
   },
   {
    "duration": 33,
    "start_time": "2022-03-14T12:19:29.444Z"
   },
   {
    "duration": 32,
    "start_time": "2022-03-14T12:19:32.734Z"
   },
   {
    "duration": 26,
    "start_time": "2022-03-14T12:19:45.105Z"
   },
   {
    "duration": 27,
    "start_time": "2022-03-14T12:28:07.585Z"
   },
   {
    "duration": 30,
    "start_time": "2022-03-14T12:28:16.338Z"
   },
   {
    "duration": 27,
    "start_time": "2022-03-14T12:28:19.790Z"
   },
   {
    "duration": 18,
    "start_time": "2022-03-14T12:31:51.348Z"
   },
   {
    "duration": 23,
    "start_time": "2022-03-14T12:32:27.691Z"
   },
   {
    "duration": 16,
    "start_time": "2022-03-14T12:32:35.646Z"
   },
   {
    "duration": 14,
    "start_time": "2022-03-14T12:46:22.298Z"
   },
   {
    "duration": 88,
    "start_time": "2022-03-14T12:46:25.609Z"
   },
   {
    "duration": 20361,
    "start_time": "2022-03-14T12:46:26.842Z"
   },
   {
    "duration": 26,
    "start_time": "2022-03-14T12:46:47.206Z"
   },
   {
    "duration": 16,
    "start_time": "2022-03-14T12:47:04.512Z"
   },
   {
    "duration": 11,
    "start_time": "2022-03-14T12:49:14.528Z"
   },
   {
    "duration": 10,
    "start_time": "2022-03-14T12:50:06.485Z"
   },
   {
    "duration": 14,
    "start_time": "2022-03-14T12:50:54.632Z"
   },
   {
    "duration": 14,
    "start_time": "2022-03-14T12:51:18.601Z"
   },
   {
    "duration": 53,
    "start_time": "2022-03-14T12:54:03.914Z"
   },
   {
    "duration": 1565,
    "start_time": "2022-03-14T12:57:23.544Z"
   },
   {
    "duration": 45,
    "start_time": "2022-03-14T12:57:25.111Z"
   },
   {
    "duration": 15,
    "start_time": "2022-03-14T12:57:25.172Z"
   },
   {
    "duration": 15,
    "start_time": "2022-03-14T12:57:25.190Z"
   },
   {
    "duration": 112,
    "start_time": "2022-03-14T12:57:25.208Z"
   },
   {
    "duration": 22417,
    "start_time": "2022-03-14T12:57:25.323Z"
   },
   {
    "duration": 42,
    "start_time": "2022-03-14T12:57:47.742Z"
   },
   {
    "duration": 55,
    "start_time": "2022-03-14T12:57:47.788Z"
   }
  ],
  "kernelspec": {
   "display_name": "Python 3 (ipykernel)",
   "language": "python",
   "name": "python3"
  },
  "language_info": {
   "codemirror_mode": {
    "name": "ipython",
    "version": 3
   },
   "file_extension": ".py",
   "mimetype": "text/x-python",
   "name": "python",
   "nbconvert_exporter": "python",
   "pygments_lexer": "ipython3",
   "version": "3.9.12"
  },
  "toc": {
   "base_numbering": 1,
   "nav_menu": {},
   "number_sections": true,
   "sideBar": true,
   "skip_h1_title": true,
   "title_cell": "Table of Contents",
   "title_sidebar": "Contents",
   "toc_cell": false,
   "toc_position": {},
   "toc_section_display": true,
   "toc_window_display": false
  }
 },
 "nbformat": 4,
 "nbformat_minor": 4
}
